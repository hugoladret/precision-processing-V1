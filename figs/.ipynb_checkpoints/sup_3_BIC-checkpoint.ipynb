{
 "cells": [
  {
   "cell_type": "code",
   "execution_count": 1,
   "metadata": {
    "execution": {
     "iopub.execute_input": "2021-04-24T14:32:55.089439Z",
     "iopub.status.busy": "2021-04-24T14:32:55.088914Z",
     "iopub.status.idle": "2021-04-24T14:32:55.851600Z",
     "shell.execute_reply": "2021-04-24T14:32:55.851964Z"
    }
   },
   "outputs": [],
   "source": [
    "%run -n boillerplate.ipynb"
   ]
  },
  {
   "cell_type": "code",
   "execution_count": 2,
   "metadata": {
    "execution": {
     "iopub.execute_input": "2021-04-24T14:32:55.854842Z",
     "iopub.status.busy": "2021-04-24T14:32:55.854367Z",
     "iopub.status.idle": "2021-04-24T14:32:55.856148Z",
     "shell.execute_reply": "2021-04-24T14:32:55.856629Z"
    }
   },
   "outputs": [],
   "source": [
    "import sys\n",
    "sys.path.append('../experimental')"
   ]
  },
  {
   "cell_type": "code",
   "execution_count": 3,
   "metadata": {
    "execution": {
     "iopub.execute_input": "2021-04-24T14:32:55.859460Z",
     "iopub.status.busy": "2021-04-24T14:32:55.858991Z",
     "iopub.status.idle": "2021-04-24T14:32:56.154964Z",
     "shell.execute_reply": "2021-04-24T14:32:56.155326Z"
    }
   },
   "outputs": [],
   "source": [
    "from lmfit import Model, Parameters\n",
    "import scipy.stats as stats\n",
    "import scikit_posthocs as sp\n",
    "from tqdm import tqdm"
   ]
  },
  {
   "cell_type": "markdown",
   "metadata": {},
   "source": [
    "# Supplementary Figure 3 : Justification of the NKR fits"
   ]
  },
  {
   "cell_type": "code",
   "execution_count": 4,
   "metadata": {
    "execution": {
     "iopub.execute_input": "2021-04-24T14:32:56.158436Z",
     "iopub.status.busy": "2021-04-24T14:32:56.157950Z",
     "iopub.status.idle": "2021-04-24T14:32:56.159579Z",
     "shell.execute_reply": "2021-04-24T14:32:56.159897Z"
    }
   },
   "outputs": [],
   "source": [
    "method_list = ['nkr', 'ReLU', 'sigmoid', 'pol2', 'pol3']"
   ]
  },
  {
   "cell_type": "markdown",
   "metadata": {},
   "source": [
    "### Fitting methods"
   ]
  },
  {
   "cell_type": "code",
   "execution_count": 5,
   "metadata": {
    "execution": {
     "iopub.execute_input": "2021-04-24T14:32:56.217028Z",
     "iopub.status.busy": "2021-04-24T14:32:56.216477Z",
     "iopub.status.idle": "2021-04-24T14:32:56.218291Z",
     "shell.execute_reply": "2021-04-24T14:32:56.218620Z"
    }
   },
   "outputs": [],
   "source": [
    "def nakarushton(x, rmax, c50, b, n):\n",
    "    nkr = b + (rmax-b) * ((x**n) / (x**n + c50**n))\n",
    "    return nkr\n",
    "\n",
    "def ReLU(x, gamma) :\n",
    "     return x * gamma * (x > 0)\n",
    "    \n",
    "def sigmoid(x, a, b):\n",
    "    return 1.0 / (1.0 + np.exp(-a*(x-b)))\n",
    "    \n",
    "def pol2(x, a, b, c) :\n",
    "    return a*x**2 + b * x + c\n",
    "\n",
    "def pol3(x, a, b, c, d) :\n",
    "    return a * x ** 3 + b * x ** 2 + c * x + d\n",
    "\n",
    "def norm_data(data):\n",
    "    return (data - np.min(data)) / (np.max(data) - np.min(data))\n",
    "\n",
    "def fit_data(data, method) :\n",
    "    y = norm_data(data)\n",
    "    \n",
    "    if method == 'nkr' :\n",
    "        x = np.linspace(0, 1, len(y))\n",
    "        mod = Model(nakarushton)\n",
    "        pars = Parameters()\n",
    "        pars.add_many(('rmax',  np.max(y), True,  0.0,  100.),\n",
    "                      ('c50', .5, True,  0.001, 10.),\n",
    "                      ('b', y[0], True, y[0] * .5 + .001, y[0] * 3 + .002 ),\n",
    "                      ('n', 4, True,  1., 100.))\n",
    "        out = mod.fit(y, pars, x=x, nan_policy='omit')\n",
    "        \n",
    "    elif method == 'ReLU' :\n",
    "        x = np.linspace(-1, 1, len(y))\n",
    "        model = Model(ReLU)\n",
    "        params = Parameters()\n",
    "        params.add('gamma', value=.5, min=.1, max=80., vary = True)\n",
    "        out = model.fit(y, params, x=x, nan_policy='omit')\n",
    "        \n",
    "    elif method == 'sigmoid' :\n",
    "        x = np.linspace(0, 1, len(y))\n",
    "        mod = Model(sigmoid)\n",
    "        pars = Parameters()\n",
    "        pars.add_many(('a',  np.max(y), True,  0.0,  100.),\n",
    "                      ('b', .5, True,  0.0, 10.))\n",
    "        out = mod.fit(y, pars, x=x, nan_policy='omit')\n",
    "        \n",
    "        \n",
    "    elif method == 'pol2' :\n",
    "        x = np.linspace(0, 1, len(y))\n",
    "        mod = Model(pol2)\n",
    "        pars = Parameters()\n",
    "        pars.add_many(('a',  .5, True,  0.0,  100.),\n",
    "                      ('b', .5, True,  0.0, 10.),\n",
    "                     ('c', .5, True,  0.0, 10.))\n",
    "        out = mod.fit(y, pars, x=x, nan_policy='omit')\n",
    "        \n",
    "    elif method == 'pol3' :\n",
    "        x = np.linspace(0, 1, len(y))\n",
    "        mod = Model(pol2)\n",
    "        pars = Parameters()\n",
    "        pars.add_many(('a',  .5, True,  0.0,  100.),\n",
    "                      ('b', .5, True,  0.0, 10.),\n",
    "                     ('c', .5, True,  0.0, 10.),\n",
    "                     ('d', .5, True,  0.0, 10.))\n",
    "        out = mod.fit(y, pars, x=x, nan_policy='omit')\n",
    "        \n",
    "    return out.chisqr, out.aic, out.bic, out.values"
   ]
  },
  {
   "cell_type": "markdown",
   "metadata": {},
   "source": [
    "### Utils methods"
   ]
  },
  {
   "cell_type": "code",
   "execution_count": 6,
   "metadata": {
    "execution": {
     "iopub.execute_input": "2021-04-24T14:32:56.225739Z",
     "iopub.status.busy": "2021-04-24T14:32:56.225257Z",
     "iopub.status.idle": "2021-04-24T14:32:56.226994Z",
     "shell.execute_reply": "2021-04-24T14:32:56.227327Z"
    }
   },
   "outputs": [],
   "source": [
    "def make_new_dico() :\n",
    "    dico = {'nkr' : {'bic' : []},\n",
    "            'ReLU' : {'bic' : []},\n",
    "            'sigmoid' : {'bic' : []},\n",
    "            'pol2' : {'bic' : []},\n",
    "            'pol3' : {'bic' : []}\n",
    "            }\n",
    "    return dico\n",
    "\n",
    "def plot_diffs(dico, method_list, varname, ax, do_label) :\n",
    "    \n",
    "    for i, method in enumerate(method_list) :\n",
    "        violin_parts = ax.violinplot(dico[method]['bic'], positions = [i], showmeans = True)\n",
    "        for partname in ('cbars','cmins','cmaxes','cmeans'):\n",
    "            vp = violin_parts[partname]\n",
    "            vp.set_edgecolor('k')\n",
    "            vp.set_linewidth(1.5)\n",
    "        for vp in violin_parts['bodies']:\n",
    "            vp.set_facecolor(r'#00a087' if varname == 'HWHH' else r'#3C5488FF')\n",
    "            vp.set_edgecolor(None)\n",
    "            vp.set_linewidth(1)\n",
    "            vp.set_alpha(0.5)\n",
    "           \n",
    "    if do_label :\n",
    "        ax.set_xticks(np.arange(len(dico)))\n",
    "        ax.set_xticklabels(method_list, fontsize = 18)\n",
    "        \n",
    "    else :\n",
    "        ax.set_xticklabels([])\n",
    "        \n",
    "    ax.set_ylabel('BIC (%s)' % varname, fontsize = 18)\n",
    "    ax.tick_params(axis='both', which='major', labelsize=14)\n",
    "    \n",
    "    ax.set_xlim(-1, len(dico) - .5)\n",
    "    \n",
    "    ax.spines['right'].set_visible(False)\n",
    "    ax.spines['top'].set_visible(False)\n",
    "    \n",
    "    return ax\n",
    "    \n",
    "def compute_stats(dico, method_list, criterion) :\n",
    "    list_stats = [dico[x][criterion] for x in method_list]\n",
    "    kruskal_stat, kruskal_pval = stats.kruskal(*list_stats, p_adjust = 'bonferroni')\n",
    "\n",
    "    dunn = sp.posthoc_dunn(a = list_stats, sort = True)\n",
    "    dunn = dunn.rename(columns = {1:method_list[0], 2:method_list[1], 3: method_list[2], 4 : method_list[3]},\n",
    "               index = {1:method_list[0], 2:method_list[1], 3: method_list[2], 4 : method_list[3]})\n",
    "\n",
    "    return kruskal_stat, kruskal_pval, dunn"
   ]
  },
  {
   "cell_type": "code",
   "execution_count": 7,
   "metadata": {
    "execution": {
     "iopub.execute_input": "2021-04-24T14:32:56.231826Z",
     "iopub.status.busy": "2021-04-24T14:32:56.231343Z",
     "iopub.status.idle": "2021-04-24T14:32:56.233162Z",
     "shell.execute_reply": "2021-04-24T14:32:56.233489Z"
    }
   },
   "outputs": [],
   "source": [
    "def get_data(method_list, varname, cluster_list, grouping_path):\n",
    "    for method in tqdm(method_list) : \n",
    "        chisqr, aic, bic = [], [], []\n",
    "        for cluster_path in cluster_list :\n",
    "            \n",
    "            folder_path = '_'.join(cluster_path.split('_')[:2])\n",
    "\n",
    "            if varname == 'CV' :\n",
    "                #raw_data = np.load(grouping_path + '/%s/0.000_plot_neurometric_fitted_TC.npy' % (cluster_path))\n",
    "                #raw_data = np.max(raw_data, axis = 1)\n",
    "                raw_data = np.load(grouping_path + '/%s/0.000_cirvar.npy' % (cluster_path))\n",
    "            elif varname == 'HWHH' : \n",
    "                raw_data = np.load(grouping_path + '/%s/0.000_plot_neurometric_Btheta_fits.npy' % (cluster_path))\n",
    "\n",
    "            results = fit_data(raw_data, method = method)\n",
    "\n",
    "            chisqr.append(results[0])\n",
    "            aic.append(results[1])\n",
    "            bic.append(results[2])\n",
    "\n",
    "        dico[method]['chisqr'] = chisqr\n",
    "        dico[method]['aic'] = aic\n",
    "        dico[method]['bic'] = bic\n",
    "    return dico"
   ]
  },
  {
   "cell_type": "markdown",
   "metadata": {},
   "source": [
    "# Taking all clusters into account"
   ]
  },
  {
   "cell_type": "code",
   "execution_count": 8,
   "metadata": {
    "execution": {
     "iopub.execute_input": "2021-04-24T14:32:56.236427Z",
     "iopub.status.busy": "2021-04-24T14:32:56.235954Z",
     "iopub.status.idle": "2021-04-24T14:32:56.238894Z",
     "shell.execute_reply": "2021-04-24T14:32:56.239378Z"
    }
   },
   "outputs": [],
   "source": [
    "grouping_path = '../experimental/results/testgroup21092020/clusters/'\n",
    "insertions = [name for name in os.listdir(grouping_path) if os.path.isdir(grouping_path+name) and '0' in name]\n",
    "cluster_list = insertions"
   ]
  },
  {
   "cell_type": "code",
   "execution_count": 9,
   "metadata": {
    "execution": {
     "iopub.execute_input": "2021-04-24T14:32:56.266762Z",
     "iopub.status.busy": "2021-04-24T14:32:56.252214Z",
     "iopub.status.idle": "2021-04-24T14:33:03.247402Z",
     "shell.execute_reply": "2021-04-24T14:33:03.247799Z"
    }
   },
   "outputs": [
    {
     "name": "stderr",
     "output_type": "stream",
     "text": [
      "100%|██████████| 5/5 [00:06<00:00,  1.32s/it]\n"
     ]
    },
    {
     "ename": "TypeError",
     "evalue": "kruskal() got an unexpected keyword argument 'p_adjust'",
     "output_type": "error",
     "traceback": [
      "\u001b[0;31m---------------------------------------------------------------------------\u001b[0m",
      "\u001b[0;31mTypeError\u001b[0m                                 Traceback (most recent call last)",
      "\u001b[0;32m<ipython-input-9-a3cbdfbd303b>\u001b[0m in \u001b[0;36m<module>\u001b[0;34m\u001b[0m\n\u001b[1;32m      8\u001b[0m     \u001b[0mplot_diffs\u001b[0m\u001b[0;34m(\u001b[0m\u001b[0mdico\u001b[0m\u001b[0;34m,\u001b[0m \u001b[0mmethod_list\u001b[0m\u001b[0;34m,\u001b[0m \u001b[0mvarname\u001b[0m\u001b[0;34m,\u001b[0m \u001b[0maxs\u001b[0m\u001b[0;34m[\u001b[0m\u001b[0mi\u001b[0m\u001b[0;34m]\u001b[0m\u001b[0;34m,\u001b[0m \u001b[0mdo_label\u001b[0m \u001b[0;34m=\u001b[0m \u001b[0;32mTrue\u001b[0m \u001b[0;32mif\u001b[0m \u001b[0mi\u001b[0m \u001b[0;34m==\u001b[0m \u001b[0;36m1\u001b[0m \u001b[0;32melse\u001b[0m \u001b[0;32mFalse\u001b[0m\u001b[0;34m)\u001b[0m\u001b[0;34m\u001b[0m\u001b[0;34m\u001b[0m\u001b[0m\n\u001b[1;32m      9\u001b[0m \u001b[0;34m\u001b[0m\u001b[0m\n\u001b[0;32m---> 10\u001b[0;31m     \u001b[0mks\u001b[0m\u001b[0;34m,\u001b[0m \u001b[0mkpval\u001b[0m\u001b[0;34m,\u001b[0m \u001b[0mdunn\u001b[0m \u001b[0;34m=\u001b[0m \u001b[0mcompute_stats\u001b[0m\u001b[0;34m(\u001b[0m\u001b[0mdico\u001b[0m\u001b[0;34m,\u001b[0m \u001b[0mmethod_list\u001b[0m\u001b[0;34m,\u001b[0m \u001b[0mcriterion\u001b[0m \u001b[0;34m=\u001b[0m \u001b[0;34m'bic'\u001b[0m\u001b[0;34m)\u001b[0m\u001b[0;34m\u001b[0m\u001b[0;34m\u001b[0m\u001b[0m\n\u001b[0m\u001b[1;32m     11\u001b[0m     \u001b[0mstat_list\u001b[0m\u001b[0;34m.\u001b[0m\u001b[0mappend\u001b[0m\u001b[0;34m(\u001b[0m\u001b[0;34m[\u001b[0m\u001b[0mvarname\u001b[0m\u001b[0;34m,\u001b[0m \u001b[0mks\u001b[0m\u001b[0;34m,\u001b[0m \u001b[0mkpval\u001b[0m\u001b[0;34m,\u001b[0m \u001b[0mdunn\u001b[0m\u001b[0;34m]\u001b[0m\u001b[0;34m)\u001b[0m\u001b[0;34m\u001b[0m\u001b[0;34m\u001b[0m\u001b[0m\n\u001b[1;32m     12\u001b[0m \u001b[0;34m\u001b[0m\u001b[0m\n",
      "\u001b[0;32m<ipython-input-6-8d28b571688b>\u001b[0m in \u001b[0;36mcompute_stats\u001b[0;34m(dico, method_list, criterion)\u001b[0m\n\u001b[1;32m     41\u001b[0m \u001b[0;32mdef\u001b[0m \u001b[0mcompute_stats\u001b[0m\u001b[0;34m(\u001b[0m\u001b[0mdico\u001b[0m\u001b[0;34m,\u001b[0m \u001b[0mmethod_list\u001b[0m\u001b[0;34m,\u001b[0m \u001b[0mcriterion\u001b[0m\u001b[0;34m)\u001b[0m \u001b[0;34m:\u001b[0m\u001b[0;34m\u001b[0m\u001b[0;34m\u001b[0m\u001b[0m\n\u001b[1;32m     42\u001b[0m     \u001b[0mlist_stats\u001b[0m \u001b[0;34m=\u001b[0m \u001b[0;34m[\u001b[0m\u001b[0mdico\u001b[0m\u001b[0;34m[\u001b[0m\u001b[0mx\u001b[0m\u001b[0;34m]\u001b[0m\u001b[0;34m[\u001b[0m\u001b[0mcriterion\u001b[0m\u001b[0;34m]\u001b[0m \u001b[0;32mfor\u001b[0m \u001b[0mx\u001b[0m \u001b[0;32min\u001b[0m \u001b[0mmethod_list\u001b[0m\u001b[0;34m]\u001b[0m\u001b[0;34m\u001b[0m\u001b[0;34m\u001b[0m\u001b[0m\n\u001b[0;32m---> 43\u001b[0;31m     \u001b[0mkruskal_stat\u001b[0m\u001b[0;34m,\u001b[0m \u001b[0mkruskal_pval\u001b[0m \u001b[0;34m=\u001b[0m \u001b[0mstats\u001b[0m\u001b[0;34m.\u001b[0m\u001b[0mkruskal\u001b[0m\u001b[0;34m(\u001b[0m\u001b[0;34m*\u001b[0m\u001b[0mlist_stats\u001b[0m\u001b[0;34m,\u001b[0m \u001b[0mp_adjust\u001b[0m \u001b[0;34m=\u001b[0m \u001b[0;34m'bonferroni'\u001b[0m\u001b[0;34m)\u001b[0m\u001b[0;34m\u001b[0m\u001b[0;34m\u001b[0m\u001b[0m\n\u001b[0m\u001b[1;32m     44\u001b[0m \u001b[0;34m\u001b[0m\u001b[0m\n\u001b[1;32m     45\u001b[0m     \u001b[0mdunn\u001b[0m \u001b[0;34m=\u001b[0m \u001b[0msp\u001b[0m\u001b[0;34m.\u001b[0m\u001b[0mposthoc_dunn\u001b[0m\u001b[0;34m(\u001b[0m\u001b[0ma\u001b[0m \u001b[0;34m=\u001b[0m \u001b[0mlist_stats\u001b[0m\u001b[0;34m,\u001b[0m \u001b[0msort\u001b[0m \u001b[0;34m=\u001b[0m \u001b[0;32mTrue\u001b[0m\u001b[0;34m)\u001b[0m\u001b[0;34m\u001b[0m\u001b[0;34m\u001b[0m\u001b[0m\n",
      "\u001b[0;31mTypeError\u001b[0m: kruskal() got an unexpected keyword argument 'p_adjust'"
     ]
    },
    {
     "data": {
      "image/png": "[encoded data removed]",
      "text/plain": [
       "<Figure size 1008x576 with 2 Axes>"
      ]
     },
     "metadata": {
      "needs_background": "light"
     },
     "output_type": "display_data"
    }
   ],
   "source": [
    "fig, axs = plt.subplots(nrows = 2, ncols = 1, figsize = (14,8))\n",
    "\n",
    "varnames = ['CV', 'HWHH']\n",
    "stat_list = []\n",
    "for i,varname in enumerate(varnames) : \n",
    "    dico = make_new_dico()\n",
    "    data = get_data(method_list, varname = varname, cluster_list = cluster_list, grouping_path = grouping_path)\n",
    "    plot_diffs(dico, method_list, varname, axs[i], do_label = True if i == 1 else False)\n",
    "    \n",
    "    ks, kpval, dunn = compute_stats(dico, method_list, criterion = 'bic')\n",
    "    stat_list.append([varname, ks, kpval, dunn])\n",
    "    \n",
    "fig.savefig('./output/sup_2_BIC.pdf', bbox_inches='tight', dpi=200, transparent=True)\n",
    "\n",
    "plt.show()"
   ]
  },
  {
   "cell_type": "code",
   "execution_count": 10,
   "metadata": {
    "execution": {
     "iopub.execute_input": "2021-04-24T14:33:03.251514Z",
     "iopub.status.busy": "2021-04-24T14:33:03.251012Z",
     "iopub.status.idle": "2021-04-24T14:33:03.252735Z",
     "shell.execute_reply": "2021-04-24T14:33:03.253214Z"
    }
   },
   "outputs": [],
   "source": [
    "for i, _ in enumerate(stat_list) :\n",
    "    print('Variable %s' % stat_list[i][0])\n",
    "    print('Kruskal value %.3f, pval %.12f' % (stat_list[i][1], stat_list[i][2]))\n",
    "    print('Dunn Posthoc :')\n",
    "    print(stat_list[i][-1])\n",
    "    print('-------------------\\n\\n')"
   ]
  },
  {
   "cell_type": "code",
   "execution_count": 11,
   "metadata": {
    "execution": {
     "iopub.execute_input": "2021-04-24T14:33:03.256138Z",
     "iopub.status.busy": "2021-04-24T14:33:03.255674Z",
     "iopub.status.idle": "2021-04-24T14:33:03.262531Z",
     "shell.execute_reply": "2021-04-24T14:33:03.262118Z"
    },
    "tags": []
   },
   "outputs": [
    {
     "ename": "IndexError",
     "evalue": "list index out of range",
     "output_type": "error",
     "traceback": [
      "\u001b[0;31m---------------------------------------------------------------------------\u001b[0m",
      "\u001b[0;31mIndexError\u001b[0m                                Traceback (most recent call last)",
      "\u001b[0;32m<ipython-input-11-53045bf52041>\u001b[0m in \u001b[0;36m<module>\u001b[0;34m\u001b[0m\n\u001b[0;32m----> 1\u001b[0;31m \u001b[0mstat_list\u001b[0m\u001b[0;34m[\u001b[0m\u001b[0;36m0\u001b[0m\u001b[0;34m]\u001b[0m\u001b[0;34m\u001b[0m\u001b[0;34m\u001b[0m\u001b[0m\n\u001b[0m",
      "\u001b[0;31mIndexError\u001b[0m: list index out of range"
     ]
    }
   ],
   "source": [
    "stat_list[0]"
   ]
  }
 ],
 "metadata": {
  "kernelspec": {
   "display_name": "Python 3",
   "language": "python",
   "name": "python3"
  },
  "language_info": {
   "codemirror_mode": {
    "name": "ipython",
    "version": 3
   },
   "file_extension": ".py",
   "mimetype": "text/x-python",
   "name": "python",
   "nbconvert_exporter": "python",
   "pygments_lexer": "ipython3",
   "version": "3.8.5"
  }
 },
 "nbformat": 4,
 "nbformat_minor": 4
}
