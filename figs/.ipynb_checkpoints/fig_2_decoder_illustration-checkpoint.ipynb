{
 "cells": [
  {
   "cell_type": "code",
   "execution_count": 1,
   "metadata": {},
   "outputs": [],
   "source": [
    "%run -n boillerplate.ipynb"
   ]
  },
  {
   "cell_type": "code",
   "execution_count": 2,
   "metadata": {},
   "outputs": [],
   "source": [
    "import sys\n",
    "sys.path.append('../experimental')\n",
    "import pipeline_params as prm\n",
    "import matplotlib.patches as patches"
   ]
  },
  {
   "cell_type": "markdown",
   "metadata": {},
   "source": [
    "# Figure 2 : Illustrating the decoding principle"
   ]
  },
  {
   "cell_type": "code",
   "execution_count": 3,
   "metadata": {},
   "outputs": [],
   "source": [
    "beg_psth = prm.beg_psth\n",
    "end_psth = prm.end_psth\n",
    "binsize = prm.binsize\n",
    "B_thetas = prm.B_thetas[::-1]\n",
    "\n",
    "colors = plt.cm.inferno(np.linspace(.2, .9, len(B_thetas)))\n",
    "n_bin = (((end_psth) - (beg_psth)) * 1000) / binsize"
   ]
  },
  {
   "cell_type": "code",
   "execution_count": 4,
   "metadata": {},
   "outputs": [],
   "source": [
    "PSTH_list = []\n",
    "for cluster_path in cluster_list :\n",
    "    load_folder = '%s/%s' % (grouping_path, cluster_path)\n",
    "    nm_PSTH_list = np.load(load_folder + '/0.000_plot_MC_PSTH_nonmerged.npy', allow_pickle = True)\n",
    "    nmmeans = np.load(load_folder + '/0.000_plot_MC_TC_nonmerged_means.npy')\n",
    "    \n",
    "    most_trial = [len(x) for x in nm_PSTH_list[-1, np.argmax(nmmeans[-1,:]), :]]\n",
    "    PSTH_list.append(nm_PSTH_list[-1, np.argmax(nmmeans[-1,:]), np.argmax(most_trial)])"
   ]
  },
  {
   "cell_type": "code",
   "execution_count": 5,
   "metadata": {},
   "outputs": [],
   "source": [
    "xs = timesteps + win_size"
   ]
  },
  {
   "cell_type": "code",
   "execution_count": 6,
   "metadata": {},
   "outputs": [
    {
     "data": {
      "image/png": "[encoded data removed]",
      "text/plain": [
       "<Figure size 288x216 with 1 Axes>"
      ]
     },
     "metadata": {},
     "output_type": "display_data"
    }
   ],
   "source": [
    "fig, ax = plt.subplots(figsize = (4, 3))\n",
    "\n",
    "for ineuron, neuron in enumerate(PSTH_list[::2]) :\n",
    "    ax.scatter(neuron, np.full_like(neuron, ineuron), color = 'k', marker = '|',\n",
    "              s = 1)\n",
    "\n",
    "rect = patches.Rectangle(xy = (0.05, -0.1), width = .1, height = 125, fill = False, edgecolor = 'k',\n",
    "                         facecolor = 'k', alpha = .8 ,\n",
    "                        linewidth = 2)\n",
    "ax.add_patch(rect)\n",
    "\n",
    "ax.spines['right'].set_visible(False)\n",
    "ax.spines['top'].set_visible(False)\n",
    "\n",
    "ax.set_yticks([])\n",
    "ax.set_xticks([])\n",
    "ax.tick_params(axis='both', which='major', labelsize=12)\n",
    "\n",
    "ax.set_xlim(beg_psth, end_psth)\n",
    "ax.set_ylim(-2, (len(PSTH_list)/2)+5)\n",
    "\n",
    "ax.set_xlabel('PST(s)', fontsize = 16)\n",
    "ax.set_ylabel('Neuron #', fontsize = 16)\n",
    "\n",
    "fig.savefig('./output/fig_2_decoder_pt1.pdf', bbox_inches='tight', dpi=200, transparent=True)\n",
    "\n",
    "plt.show()"
   ]
  },
  {
   "cell_type": "code",
   "execution_count": 7,
   "metadata": {},
   "outputs": [
    {
     "data": {
      "image/png": "[encoded data removed]",
      "text/plain": [
       "<Figure size 28.8x360 with 1 Axes>"
      ]
     },
     "metadata": {},
     "output_type": "display_data"
    }
   ],
   "source": [
    "fig, ax = plt.subplots(figsize = (.4, 5))\n",
    "\n",
    "np.random.seed(46)\n",
    "rand = np.random.uniform(-1, 1, N_thetas*N_B_thetas)\n",
    "rand = rand[np.newaxis, :]\n",
    "ax.imshow(rand.T, aspect = 'auto', cmap = plt.cm.coolwarm)\n",
    "\n",
    "ax.set_xticks([])\n",
    "ax.set_yticks([])\n",
    "\n",
    "fig.savefig('./output/fig_2_decoder_pt2.pdf', bbox_inches='tight', \n",
    "            dpi=200, transparent=True)\n",
    "\n",
    "plt.show()"
   ]
  },
  {
   "cell_type": "code",
   "execution_count": 8,
   "metadata": {},
   "outputs": [
    {
     "data": {
      "image/png": "[encoded data removed]",
      "text/plain": [
       "<Figure size 288x288 with 1 Axes>"
      ]
     },
     "metadata": {},
     "output_type": "display_data"
    }
   ],
   "source": [
    "fig, ax = plt.subplots(figsize = (4,4))\n",
    "\n",
    "def sigmoid(x):\n",
    "    return 1 / (1 + np.exp(-x))\n",
    "\n",
    "x = np.linspace(-6,6,300)\n",
    "sig = sigmoid(x) \n",
    "\n",
    "ax.plot(x,sig, c = 'k')\n",
    "ax.axhline(.5, c = 'gray', linestyle = '--')\n",
    "#ax.text(7, .5, '.5', va = 'center', ha = 'center', fontsize = 12 )\n",
    "\n",
    "ax.spines['right'].set_visible(False)\n",
    "ax.spines['top'].set_visible(False)\n",
    "\n",
    "ax.set_xticks([])\n",
    "ax.set_yticks([])\n",
    "\n",
    "fig.savefig('./output/fig_2_decoder_pt3.pdf', bbox_inches='tight', dpi=200, transparent=True)\n",
    "\n",
    "plt.show()"
   ]
  }
 ],
 "metadata": {
  "kernelspec": {
   "display_name": "Python 3",
   "language": "python",
   "name": "python3"
  },
  "language_info": {
   "codemirror_mode": {
    "name": "ipython",
    "version": 3
   },
   "file_extension": ".py",
   "mimetype": "text/x-python",
   "name": "python",
   "nbconvert_exporter": "python",
   "pygments_lexer": "ipython3",
   "version": "3.8.5"
  }
 },
 "nbformat": 4,
 "nbformat_minor": 4
}
