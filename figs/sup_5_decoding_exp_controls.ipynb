{
 "cells": [
  {
   "cell_type": "raw",
   "metadata": {},
   "source": [
    "import sys\n",
    "sys.path.append('../experimental')"
   ]
  },
  {
   "cell_type": "code",
   "execution_count": 1,
   "metadata": {
    "execution": {
     "iopub.execute_input": "2021-04-24T14:33:25.534845Z",
     "iopub.status.busy": "2021-04-24T14:33:25.534362Z",
     "iopub.status.idle": "2021-04-24T14:33:26.295048Z",
     "shell.execute_reply": "2021-04-24T14:33:26.295419Z"
    },
    "nbdime-conflicts": {
     "local_diff": [
      {
       "key": "execution",
       "op": "remove"
      }
     ],
     "remote_diff": [
      {
       "diff": [
        {
         "diff": [
          {
           "key": 0,
           "op": "addrange",
           "valuelist": [
            "2021-04-16T14:21:52.141596Z"
           ]
          },
          {
           "key": 0,
           "length": 1,
           "op": "removerange"
          }
         ],
         "key": "iopub.execute_input",
         "op": "patch"
        },
        {
         "diff": [
          {
           "diff": [
            {
             "key": 9,
             "op": "addrange",
             "valuelist": "6"
            },
            {
             "key": 9,
             "length": 1,
             "op": "removerange"
            },
            {
             "key": 12,
             "op": "addrange",
             "valuelist": "4:"
            },
            {
             "key": 13,
             "op": "addrange",
             "valuelist": "1"
            },
            {
             "key": 13,
             "length": 3,
             "op": "removerange"
            },
            {
             "key": 18,
             "op": "addrange",
             "valuelist": "2"
            },
            {
             "key": 18,
             "length": 1,
             "op": "removerange"
            },
            {
             "key": 20,
             "op": "addrange",
             "valuelist": "1"
            },
            {
             "key": 21,
             "length": 1,
             "op": "removerange"
            },
            {
             "key": 24,
             "length": 1,
             "op": "removerange"
            },
            {
             "key": 26,
             "op": "addrange",
             "valuelist": "3"
            }
           ],
           "key": 0,
           "op": "patch"
          }
         ],
         "key": "iopub.status.busy",
         "op": "patch"
        },
        {
         "diff": [
          {
           "key": 0,
           "op": "addrange",
           "valuelist": [
            "2021-04-16T14:21:52.891629Z"
           ]
          },
          {
           "key": 0,
           "length": 1,
           "op": "removerange"
          }
         ],
         "key": "iopub.status.idle",
         "op": "patch"
        },
        {
         "diff": [
          {
           "key": 0,
           "op": "addrange",
           "valuelist": [
            "2021-04-16T14:21:52.891218Z"
           ]
          },
          {
           "key": 0,
           "length": 1,
           "op": "removerange"
          }
         ],
         "key": "shell.execute_reply",
         "op": "patch"
        }
       ],
       "key": "execution",
       "op": "patch"
      }
     ]
    },
    "tags": []
   },
   "outputs": [],
   "source": [
    "%run -n boillerplate.ipynb"
   ]
  },
  {
   "cell_type": "markdown",
   "metadata": {},
   "source": [
    "# Supplementary Figure 5 : decoding the animal + insertion from the data"
   ]
  },
  {
   "cell_type": "code",
   "execution_count": 2,
   "metadata": {
    "execution": {
     "iopub.execute_input": "2021-04-24T14:33:26.302336Z",
     "iopub.status.busy": "2021-04-24T14:33:26.301793Z",
     "iopub.status.idle": "2021-04-24T14:36:46.312216Z",
     "shell.execute_reply": "2021-04-24T14:36:46.312841Z"
    }
   },
   "outputs": [
    {
     "name": "stderr",
     "output_type": "stream",
     "text": [
      "100%|██████████| 1000/1000 [03:19<00:00,  5.00it/s]\n"
     ]
    }
   ],
   "source": [
    "n_neurons = 30\n",
    "\n",
    "target_btheta = 0.\n",
    "target_theta = None\n",
    "data_type = 'one_bt'\n",
    "\n",
    "max_t = .15\n",
    "min_t = 0.\n",
    "\n",
    "all_cms = np.zeros((3,3))\n",
    "\n",
    "for n_loop in tqdm(range(1000)) :\n",
    "    rng = np.random.default_rng(seed = n_loop)\n",
    "    \n",
    "    \n",
    "    # Get the insertions list\n",
    "    all_insertions = []\n",
    "    for experiment_name in exp_list :\n",
    "        insertions = [cluster for cluster in cluster_list if experiment_name in cluster]\n",
    "        selected = rng.choice(insertions, n_neurons)\n",
    "        all_insertions.append(selected)\n",
    "\n",
    "    all_insertions = np.concatenate(all_insertions)\n",
    "    np.random.shuffle(all_insertions)\n",
    "\n",
    "    \n",
    "    # Get the data\n",
    "    spikes = Parallel(n_jobs = -1)(delayed(load_neuron_data)(i,\n",
    "                                                       target_btheta = target_btheta,\n",
    "                                                       target_theta = target_theta,\n",
    "                                                       data_type = data_type,\n",
    "                                                       max_t = max_t,\n",
    "                                                       min_t = min_t,\n",
    "                                                        cluster_list = all_insertions)\n",
    "                             for i in range(len(all_insertions)))\n",
    "    \n",
    "    data = np.asarray(spikes)\n",
    "    data = np.swapaxes(data, 1, -1)\n",
    "    data = np.mean(data, axis = 1)\n",
    "    data = data.reshape(-1, 1)\n",
    "    \n",
    "    \n",
    "    # Get the labels\n",
    "    all_labs = []\n",
    "    for i, cluster_path in enumerate(all_insertions):\n",
    "        labels = cluster_path.split('_')[0]\n",
    "        all_labs.append(labels)\n",
    "    le = preprocessing.LabelEncoder()\n",
    "    le.fit(all_labs)\n",
    "    labs = le.transform(all_labs)\n",
    "\n",
    "    \n",
    "    # And run the classif\n",
    "    logreg = LogisticRegression(**opts_LR)\n",
    "    xtrain, xtest, ytrain, ytest = train_test_split(data, labs, test_size =test_size, random_state = 42)\n",
    "\n",
    "    logreg.fit(xtrain, ytrain)\n",
    "\n",
    "    cm = metrics.confusion_matrix(ytest, logreg.predict(xtest), normalize = 'all')\n",
    "    cm *= len(le.classes_)\n",
    "    all_cms += cm"
   ]
  },
  {
   "cell_type": "code",
   "execution_count": 3,
   "metadata": {
    "execution": {
     "iopub.execute_input": "2021-04-24T14:36:46.357909Z",
     "iopub.status.busy": "2021-04-24T14:36:46.352436Z",
     "iopub.status.idle": "2021-04-24T14:36:46.841125Z",
     "shell.execute_reply": "2021-04-24T14:36:46.841530Z"
    }
   },
   "outputs": [
    {
     "data": {
      "image/png": "[encoded data removed]",
      "text/plain": [
       "<Figure size 576x576 with 2 Axes>"
      ]
     },
     "metadata": {
      "needs_background": "light"
     },
     "output_type": "display_data"
    }
   ],
   "source": [
    "fig, ax = plt.subplots(figsize = (8,8))\n",
    "\n",
    "norm_cms = all_cms/1000\n",
    "im = ax.imshow(norm_cms)\n",
    "\n",
    "ax.set_xticks([0.,1.,2.])\n",
    "ax.set_yticks([0.,1.,2.])\n",
    "ax.tick_params(axis='x', which='major', pad=25)\n",
    "ax.set_xticklabels(['Exp #1', 'Exp #2', 'Exp #3'], rotation = 45, va = 'center')\n",
    "ax.set_yticklabels(['Exp #1', 'Exp #2', 'Exp #3'], rotation = 45, va = 'center')\n",
    "\n",
    "ax.set_xlabel('Predicted experiment #', fontsize = 18)\n",
    "ax.set_ylabel('True experiment #', fontsize = 18)\n",
    "    \n",
    "ax.tick_params(axis='both', which='major', labelsize=14)\n",
    "\n",
    "cax = fig.add_axes([ax.get_position().x1+0.025, # offset from the right of the axis\n",
    "                                ax.get_position().y0+-.0, #bottom of the colorbar\n",
    "                                0.03, #width of the colorbar\n",
    "                                .755]) #height of the colorbar\n",
    "cb = fig.colorbar(im, cax = cax, ticks = np.linspace(np.min(norm_cms), np.max(norm_cms), 6))\n",
    "cb.ax.set_yticklabels(np.round(np.linspace(np.min(norm_cms), np.max(norm_cms), 6), 1))\n",
    "cax.set_ylabel('Classification accuracy', rotation = 270, labelpad = 50,\n",
    "              fontsize = 20)\n",
    "cb.ax.tick_params(labelsize = 14)\n",
    "\n",
    "fig.savefig('./output/sup_6_animals.pdf', bbox_inches='tight', dpi=200, transparent=True)\n"
   ]
  },
  {
   "cell_type": "markdown",
   "metadata": {},
   "source": [
    "# Decoding insertions\n",
    "As we've seen above, there is no clear way to distinguish which animal the data comes from. However, within an animal, there might be excitation variations/anesthesia variations throughout the procedures, which can last 4 days. As such, while the decoding of animal shows that there is no problem in considering all animals as one entity, maybe we shouldn't mix neurons from the first insertions and the last insertions.\n",
    "\n",
    "Here, we decode for each animal the name of the insertion based on firing rate average at btheta = 0"
   ]
  },
  {
   "cell_type": "code",
   "execution_count": 4,
   "metadata": {
    "execution": {
     "iopub.execute_input": "2021-04-24T14:36:46.847583Z",
     "iopub.status.busy": "2021-04-24T14:36:46.847101Z",
     "iopub.status.idle": "2021-04-24T14:36:47.406408Z",
     "shell.execute_reply": "2021-04-24T14:36:47.406764Z"
    }
   },
   "outputs": [],
   "source": [
    "exp_list = ['Mary', 'Tom', 'Steven']\n",
    "grouping_path = '../experimental/results/testgroup21092020/clusters/'\n",
    "\n",
    "insertion_cms = []\n",
    "for exp in exp_list :\n",
    "    cluster_list = [name for name in os.listdir(grouping_path) if os.path.isdir(grouping_path+name) and exp in name]\n",
    "    cluster_list = sorted(cluster_list)\n",
    "    \n",
    "    insertion_names = ['_'.join(x.split('_')[:2]) for x in cluster_list]\n",
    "    tot_uniques = len(np.unique(insertion_names))\n",
    "    \n",
    "    # Get the data\n",
    "    spikes = Parallel(n_jobs = -1)(delayed(load_neuron_data)(i,\n",
    "                                                       target_btheta = target_btheta,\n",
    "                                                       target_theta = target_theta,\n",
    "                                                       data_type = data_type,\n",
    "                                                       max_t = max_t,\n",
    "                                                       min_t = min_t,\n",
    "                                                       cluster_list = cluster_list)\n",
    "                             for i in range(len(cluster_list)))\n",
    "    data = np.asarray(spikes)\n",
    "    data = np.swapaxes(data, 1,-1)\n",
    "    data = np.mean(data, axis = 1)\n",
    "    data = data.reshape(-1,1)\n",
    "    \n",
    "    # Get the labels\n",
    "    all_labs = insertion_names\n",
    "    le = preprocessing.LabelEncoder()\n",
    "    le.fit(all_labs)\n",
    "    labs = le.transform(all_labs)\n",
    "    \n",
    "    # And run the classif\n",
    "    logreg = LogisticRegression(**opts_LR)\n",
    "    xtrain, xtest, ytrain, ytest = train_test_split(data, labs, test_size =test_size, random_state = 42)\n",
    "\n",
    "    logreg.fit(xtrain, ytrain)\n",
    "\n",
    "    cm = metrics.confusion_matrix(ytest, logreg.predict(xtest), normalize = 'all')\n",
    "    #cm *= len(le.classes_)\n",
    "    \n",
    "    insertion_cms.append(cm)"
   ]
  },
  {
   "cell_type": "code",
   "execution_count": 5,
   "metadata": {
    "execution": {
     "iopub.execute_input": "2021-04-24T14:36:47.577831Z",
     "iopub.status.busy": "2021-04-24T14:36:47.577286Z",
     "iopub.status.idle": "2021-04-24T14:36:48.324634Z",
     "shell.execute_reply": "2021-04-24T14:36:48.324982Z"
    }
   },
   "outputs": [
    {
     "name": "stderr",
     "output_type": "stream",
     "text": [
      "<ipython-input-5-1d133460ae71>:27: UserWarning: This figure includes Axes that are not compatible with tight_layout, so results might be incorrect.\n",
      "  fig.tight_layout()\n"
     ]
    },
    {
     "data": {
      "image/png": "[encoded data removed]",
      "text/plain": [
       "<Figure size 1080x360 with 4 Axes>"
      ]
     },
     "metadata": {
      "needs_background": "light"
     },
     "output_type": "display_data"
    }
   ],
   "source": [
    "fig, axs = plt.subplots(figsize = (15,5), ncols = 3)\n",
    "\n",
    "for i,cm in enumerate(insertion_cms) :\n",
    "    im = axs[i].imshow(norm_data(cm))\n",
    "    axs[i].set_title('Exp #%s'%i, fontsize = 15)\n",
    "    \n",
    "    if i == 0 :\n",
    "        axs[i].set_xlabel('Predicted insertion', fontsize = 18)\n",
    "        axs[i].set_ylabel('True insertion', fontsize = 18)\n",
    "        \n",
    "    axs[i].set_xticks(np.arange(0, cm.shape[0]))\n",
    "    axs[i].set_yticks(np.arange(0, cm.shape[0]))\n",
    "    \n",
    "    axs[i].set_xticklabels([])\n",
    "    axs[i].set_yticklabels([])\n",
    "    \n",
    "    if i == 2 :\n",
    "        cax = fig.add_axes([axs[i].get_position().x1+0.1, # offset from the right of the axis\n",
    "                                    ax.get_position().y0+-.07, #bottom of the colorbar\n",
    "                                    0.02, #width of the colorbar\n",
    "                                    .9]) #height of the colorbar\n",
    "        cb = fig.colorbar(im, cax = cax)\n",
    "        cax.set_ylabel('Classification accuracy', rotation = 270, labelpad = 50,\n",
    "                      fontsize = 20)\n",
    "        cb.ax.tick_params(labelsize = 14)\n",
    "    \n",
    "fig.tight_layout()\n",
    "fig.savefig('./output/sup_6_insertions.pdf', bbox_inches='tight', dpi=200, transparent=True)"
   ]
  },
  {
   "cell_type": "code",
   "execution_count": 6,
   "metadata": {
    "execution": {
     "iopub.execute_input": "2021-04-24T14:36:48.332019Z",
     "iopub.status.busy": "2021-04-24T14:36:48.331501Z",
     "iopub.status.idle": "2021-04-24T14:36:48.719094Z",
     "shell.execute_reply": "2021-04-24T14:36:48.719461Z"
    }
   },
   "outputs": [],
   "source": [
    "exp_list = ['Mary', 'Tom', 'Steven']\n",
    "grouping_path = '../experimental/results/testgroup21092020/clusters/'\n",
    "\n",
    "insertion_cms = []\n",
    "\n",
    "cluster_list = [name for name in os.listdir(grouping_path) if os.path.isdir(grouping_path+name)]\n",
    "insertion_names = ['_'.join(x.split('_')[:2]) for x in cluster_list]\n",
    "name_unique , n_unique = np.unique(insertion_names, return_counts = True)\n",
    "\n",
    "filtered_insertion_names = []\n",
    "for i0, _ in enumerate(n_unique) :\n",
    "    if n_unique[i0] <= 2 :\n",
    "        pass\n",
    "    else :\n",
    "        good_name = name_unique[i0]\n",
    "        filtered_insertion_names.append(['_'.join(x.split('_')[:2]) for x in cluster_list if good_name in x])\n",
    "filtered_arr = np.concatenate(filtered_insertion_names)\n",
    "\n",
    "good_uniques = np.unique(filtered_arr)\n",
    "good_cluster_list = [name for name in os.listdir(grouping_path) if os.path.isdir(grouping_path+name) \n",
    "                     and '_'.join(name.split('_')[:2]) in good_uniques]\n",
    "\n",
    "\n",
    "# Get the data\n",
    "spikes = Parallel(n_jobs = -1)(delayed(load_neuron_data)(i,\n",
    "                                                   target_btheta = target_btheta,\n",
    "                                                   target_theta = target_theta,\n",
    "                                                   data_type = data_type,\n",
    "                                                   max_t = max_t,\n",
    "                                                   min_t = min_t,\n",
    "                                                   cluster_list = good_cluster_list)\n",
    "                         for i in range(len(good_cluster_list)))\n",
    "data = np.asarray(spikes)\n",
    "data = np.swapaxes(data, 1,-1)\n",
    "data = np.mean(data, axis = 1)\n",
    "data = data.reshape(-1,1)\n",
    "\n",
    "# Get the labels\n",
    "all_labs = filtered_arr\n",
    "le = preprocessing.LabelEncoder()\n",
    "le.fit(all_labs)\n",
    "labs = le.transform(all_labs)\n",
    "\n",
    "# And run the classif\n",
    "logreg = LogisticRegression(**opts_LR)\n",
    "xtrain, xtest, ytrain, ytest = train_test_split(data, labs, test_size =test_size, random_state = 42,\n",
    "                                               stratify = labs)\n",
    "\n",
    "logreg.fit(xtrain, ytrain)\n",
    "\n",
    "cm = metrics.confusion_matrix(ytest, logreg.predict(xtest), normalize = 'all')\n",
    "#cm *= len(le.classes_)"
   ]
  },
  {
   "cell_type": "code",
   "execution_count": 7,
   "metadata": {
    "execution": {
     "iopub.execute_input": "2021-04-24T14:36:48.736056Z",
     "iopub.status.busy": "2021-04-24T14:36:48.735572Z",
     "iopub.status.idle": "2021-04-24T14:36:48.809546Z",
     "shell.execute_reply": "2021-04-24T14:36:48.809880Z"
    }
   },
   "outputs": [
    {
     "data": {
      "text/plain": [
       "<matplotlib.image.AxesImage at 0x24cd684c0>"
      ]
     },
     "execution_count": 7,
     "metadata": {},
     "output_type": "execute_result"
    },
    {
     "data": {
      "image/png": "[encoded data removed]",
      "text/plain": [
       "<Figure size 432x288 with 1 Axes>"
      ]
     },
     "metadata": {
      "needs_background": "light"
     },
     "output_type": "display_data"
    }
   ],
   "source": [
    "plt.imshow(cm)"
   ]
  }
 ],
 "metadata": {
  "kernelspec": {
   "display_name": "Python 3",
   "language": "python",
   "name": "python3"
  },
  "language_info": {
   "codemirror_mode": {
    "name": "ipython",
    "version": 3
   },
   "file_extension": ".py",
   "mimetype": "text/x-python",
   "name": "python",
   "nbconvert_exporter": "python",
   "pygments_lexer": "ipython3",
   "version": "3.8.5"
  },
  "nbdime-conflicts": {
   "local_diff": [
    {
     "diff": [
      {
       "diff": [
        {
         "diff": [
          {
           "key": 4,
           "op": "addrange",
           "valuelist": "6"
          },
          {
           "key": 4,
           "length": 1,
           "op": "removerange"
          }
         ],
         "key": 0,
         "op": "patch"
        }
       ],
       "key": "version",
       "op": "patch"
      }
     ],
     "key": "language_info",
     "op": "patch"
    }
   ],
   "remote_diff": [
    {
     "diff": [
      {
       "diff": [
        {
         "key": 0,
         "length": 1,
         "op": "removerange"
        }
       ],
       "key": "version",
       "op": "patch"
      }
     ],
     "key": "language_info",
     "op": "patch"
    }
   ]
  }
 },
 "nbformat": 4,
 "nbformat_minor": 4
}
