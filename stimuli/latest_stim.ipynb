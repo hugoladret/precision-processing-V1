{
 "cells": [
  {
   "cell_type": "code",
   "execution_count": 1,
   "metadata": {
    "ExecuteTime": {
     "end_time": "2020-07-10T03:28:37.389026Z",
     "start_time": "2020-07-10T03:28:36.600999Z"
    }
   },
   "outputs": [
    {
     "name": "stdout",
     "output_type": "stream",
     "text": [
      "pygame 1.9.6\n",
      "Hello from the pygame community. https://www.pygame.org/contribute.html\n"
     ]
    }
   ],
   "source": [
    "import numpy as np\n",
    "import scipy.ndimage as snd\n",
    "\n",
    "import MotionClouds as mc\n",
    "import matplotlib.pyplot as plt\n",
    "\n",
    "from tqdm import tqdm\n",
    "import itertools\n",
    "\n",
    "import imageio, imageio.core.util\n",
    "import warnings\n",
    "from psychopy import visual, core, event\n",
    "\n",
    "import shutil\n",
    "import os\n",
    "\n",
    "import time\n",
    "\n",
    "from math import atan2, degrees"
   ]
  },
  {
   "cell_type": "markdown",
   "metadata": {},
   "source": [
    "# Main stimulation notebook,\n",
    "# Last update : June 2020 (minor, also used in M experiments, January 2020)\n",
    "# Ctrl + Shift + Enter to run all"
   ]
  },
  {
   "cell_type": "markdown",
   "metadata": {},
   "source": [
    "## Parameters"
   ]
  },
  {
   "cell_type": "code",
   "execution_count": 2,
   "metadata": {
    "ExecuteTime": {
     "end_time": "2020-07-10T03:28:37.425785Z",
     "start_time": "2020-07-10T03:28:37.390272Z"
    }
   },
   "outputs": [],
   "source": [
    "# --------------------------------------\n",
    "#  Insertion specific parameters, change\n",
    "# --------------------------------------\n",
    "\n",
    "# Insertion name\n",
    "exp_name = 'AM001'\n",
    "\n",
    "# --------------------------------------\n",
    "#  Constant parameters, do not change\n",
    "# --------------------------------------\n",
    "# Number of repetition for each pattern \n",
    "repetition = 15\n",
    "\n",
    "# Spatial frequency, in cpd\n",
    "sf = np.array([.9]) / 2 # 2 3 \n",
    "\n",
    "# Orientations\n",
    "N_thetas = 12\n",
    "thetas = np.linspace(0, np.pi, N_thetas, endpoint = False)\n",
    "\n",
    "# Precisions\n",
    "N_Bthetas = 8\n",
    "B_thetas = np.linspace(np.pi/2, 0, N_Bthetas)/ 2.5\n",
    "\n",
    "# Phases this parameter is not actually used but stays in the code to regenerate sequence\n",
    "# Also they're actually a direction\n",
    "N_phases = 2\n",
    "phases = np.linspace(0, .05, N_phases, endpoint = False)\n",
    "# This one is used to increment the phase at each flip. \n",
    "# Given 1 phase = 80 degrees, and there is stim_duration / .16 frames available, you get\n",
    "phase_increment = .002\n",
    "\n",
    "# Duration of each pattern\n",
    "stim_duration = .29 # s, using just a little bit less than the actual duration permits accurate timing\n",
    "#stim_duration = .14  \n",
    "inter_duration = .15\n",
    "# Number of each pattern repetitions\n",
    "\n",
    "\n",
    "# RNG\n",
    "seed = 42\n",
    "\n",
    "# MotionClouds parameters\n",
    "downscale = 1\n",
    "N_X, N_Y, N_frames = 512, 512, 1\n",
    "\n",
    "sf_0 = sf\n",
    "B_sf = sf_0\n",
    "\n",
    "# Screen parameters\n",
    "screen_units = 'pix' # of visual angle, @ 57 cm dist 1 cm approx 1 deg\n",
    "screen_X = 1920\n",
    "screen_Y = 1080 # doesnt affect the screen, affect the Sf scaling\n",
    "screen_dist = 57 # cm, screen distance \n",
    "screen_height = 80 #cm\n",
    "\n",
    "# whether print statements for the runs are done\n",
    "verbose = False"
   ]
  },
  {
   "cell_type": "markdown",
   "metadata": {},
   "source": [
    "## Init"
   ]
  },
  {
   "cell_type": "code",
   "execution_count": 3,
   "metadata": {
    "ExecuteTime": {
     "end_time": "2020-07-10T03:28:37.428874Z",
     "start_time": "2020-07-10T03:28:37.426932Z"
    }
   },
   "outputs": [],
   "source": [
    "# Subject name\n",
    "exp_date = '_07072020'\n",
    "exp_name+= exp_date"
   ]
  },
  {
   "cell_type": "code",
   "execution_count": 4,
   "metadata": {
    "ExecuteTime": {
     "end_time": "2020-07-10T03:28:37.433385Z",
     "start_time": "2020-07-10T03:28:37.429945Z"
    }
   },
   "outputs": [
    {
     "name": "stdout",
     "output_type": "stream",
     "text": [
      "One degree is 0.0649248647534944 pixels\n",
      "It takes 15.402419455116043 px for 1 cycle\n",
      "So to get 1 cpd, we need param of value [0.0616279]\n"
     ]
    }
   ],
   "source": [
    "if screen_units == 'pix':\n",
    "    deg_per_px = degrees(atan2(.5*screen_height, screen_dist)) / (.5*screen_Y)\n",
    "    cpd_per_px = 1/deg_per_px\n",
    "    sf = sf/cpd_per_px\n",
    "    sf *= (screen_Y / N_Y) \n",
    "    \n",
    "    # Change for MC too\n",
    "    sf_0 = sf\n",
    "    B_sf = sf\n",
    "    \n",
    "    print('One degree is %s pixels' % deg_per_px)\n",
    "    print('It takes %s px for 1 cycle' % cpd_per_px)\n",
    "    print('So to get 1 cpd, we need param of value %s' % sf)"
   ]
  },
  {
   "cell_type": "code",
   "execution_count": 5,
   "metadata": {
    "ExecuteTime": {
     "end_time": "2020-07-10T03:28:38.422479Z",
     "start_time": "2020-07-10T03:28:37.434491Z"
    }
   },
   "outputs": [],
   "source": [
    "# MC \n",
    "fx, fy, ft = mc.get_grids(N_X//downscale, N_Y //\n",
    "                          downscale, mc.N_frame//downscale)\n",
    "\n",
    "# RNG\n",
    "np.random.seed(seed)\n",
    "\n",
    "MC_sequence = list(itertools.product(thetas, B_thetas, phases))\n",
    "np.random.shuffle(MC_sequence)\n",
    "\n",
    "# Folder\n",
    "mc.figpath = os.path.join('./backup/%s' % exp_name)\n",
    "if not(os.path.isdir(mc.figpath)):\n",
    "    os.mkdir(mc.figpath)"
   ]
  },
  {
   "cell_type": "markdown",
   "metadata": {},
   "source": [
    "## Sanity visualisation"
   ]
  },
  {
   "cell_type": "code",
   "execution_count": 6,
   "metadata": {
    "ExecuteTime": {
     "end_time": "2020-07-10T03:28:38.560294Z",
     "start_time": "2020-07-10T03:28:38.423546Z"
    }
   },
   "outputs": [
    {
     "name": "stdout",
     "output_type": "stream",
     "text": [
      "Total time : [21.12] minutes\n",
      "Block time : [15] blocks of [55.67999999999999]s, each pattern for [0.29]s\n",
      "---\n",
      "MC : [12] thetas and [8] b_thetas\n",
      "Thetas : [0.         0.26179939 0.52359878 0.78539816 1.04719755 1.30899694\n",
      " 1.57079633 1.83259571 2.0943951  2.35619449 2.61799388 2.87979327] \n",
      "Bthetas : [0.62831853 0.53855874 0.44879895 0.35903916 0.26927937 0.17951958\n",
      " 0.08975979 0.        ]\n",
      "---\n",
      "Phases : [2] phases\n",
      "Phases : [0.    0.025]\n"
     ]
    },
    {
     "data": {
      "image/png": "[encoded data removed]",
      "text/plain": [
       "<Figure size 432x288 with 1 Axes>"
      ]
     },
     "metadata": {
      "needs_background": "light"
     },
     "output_type": "display_data"
    }
   ],
   "source": [
    "print('Total time : [%.2f] minutes' %\n",
    "      ( (((len(MC_sequence)*stim_duration*repetition) + (len(MC_sequence) * inter_duration * repetition)) /60)))\n",
    "print('Block time : [%s] blocks of [%s]s, each pattern for [%s]s' % (\n",
    "    repetition, stim_duration*len(MC_sequence), stim_duration))\n",
    "print('---')\n",
    "print('MC : [%s] thetas and [%s] b_thetas' % (N_thetas, len(B_thetas)))\n",
    "print('Thetas :', thetas, '\\nBthetas :', B_thetas)\n",
    "print('---')\n",
    "print('Phases : [%s] phases' % (N_phases))\n",
    "print('Phases :', phases)\n",
    "\n",
    "plt.scatter(*zip(*MC_sequence))\n",
    "plt.xlabel('Theta (radians)')\n",
    "plt.ylabel('Btheta (radians)')\n",
    "plt.title('MotionClouds : Angle - Precision space')\n",
    "plt.show()"
   ]
  },
  {
   "cell_type": "markdown",
   "metadata": {},
   "source": [
    "## Functions"
   ]
  },
  {
   "cell_type": "code",
   "execution_count": 7,
   "metadata": {
    "ExecuteTime": {
     "end_time": "2020-07-10T03:28:38.566714Z",
     "start_time": "2020-07-10T03:28:38.561667Z"
    }
   },
   "outputs": [],
   "source": [
    "def silence_imageio_warning(*args, **kwargs):\n",
    "    pass\n",
    "\n",
    "imageio.core.util._precision_warn = silence_imageio_warning\n",
    "\n",
    "def get_keypress():\n",
    "    keys = event.getKeys()\n",
    "    if keys:\n",
    "        return keys[0]\n",
    "    else:\n",
    "        return None\n",
    "\n",
    "def generate_cloud(theta, b_theta, phase,\n",
    "                   N_X, N_Y, seed, contrast=1.,\n",
    "                   transition=False):\n",
    "\n",
    "    fx, fy, ft = mc.get_grids(N_X, N_Y, 1)\n",
    "    \n",
    "    disk = mc.frequency_radius(fx, fy, ft) < .5\n",
    "    \n",
    "    if b_theta == 0 : \n",
    "        mc_i = mc.envelope_gabor(fx, fy, ft,\n",
    "                                 V_X=0., V_Y=0., B_V=0.,\n",
    "                                 sf_0=sf_0, B_sf=B_sf,\n",
    "                                 theta=0, B_theta=b_theta)\n",
    "    else : \n",
    "        mc_i = mc.envelope_gabor(fx, fy, ft,\n",
    "                                 V_X=0., V_Y=0., B_V=0.,\n",
    "                                 sf_0=sf_0, B_sf=B_sf,\n",
    "                                 theta=0, B_theta=b_theta)\n",
    "        \n",
    "    im_ = np.zeros((N_X, N_Y, 1))\n",
    "    im_ += mc.rectif(mc.random_cloud(mc_i, seed=seed),\n",
    "                     contrast=2)\n",
    "    im_ += -.5\n",
    "    #im_ *= disk  # masking outside the disk\n",
    "    #\n",
    "    #im_ += .5*(1-disk)  # gray outside the disk\n",
    "    \n",
    "    #if b_theta == 0 : \n",
    "        #im_ = snd.rotate(im_, theta * 180 / np.pi, reshape = False)\n",
    "        #im_*= .82 #there is a contrast error with scipy ndimage rotate, this should fix it\n",
    "    #if transition:\n",
    "        #im_[10:40, 10:40] = 1\n",
    "    #else:\n",
    "        #im_[10:40, 10:40]= -.35\n",
    "\n",
    "    return im_"
   ]
  },
  {
   "cell_type": "markdown",
   "metadata": {},
   "source": [
    "## Generating sequences and loading them in RAM"
   ]
  },
  {
   "cell_type": "code",
   "execution_count": 8,
   "metadata": {
    "ExecuteTime": {
     "end_time": "2020-07-10T03:28:55.966059Z",
     "start_time": "2020-07-10T03:28:38.567856Z"
    }
   },
   "outputs": [
    {
     "name": "stderr",
     "output_type": "stream",
     "text": [
      "Generating MotionClouds: 100%|██████████| 192/192 [00:17<00:00, 11.04it/s]\n"
     ]
    }
   ],
   "source": [
    "generated_MC_sequences = []\n",
    "for seq in tqdm(MC_sequence, 'Generating MotionClouds'):\n",
    "    theta = seq[0]\n",
    "    btheta = seq[1]\n",
    "    phase = seq[2]\n",
    "    stimtype = 'MC'\n",
    "    im_0 = generate_cloud(theta=theta, b_theta=btheta, contrast=1,\n",
    "                          N_X=N_X, N_Y=N_Y, seed=seed, transition=False,\n",
    "                         phase = phase)[:, :, 0]\n",
    "    im_1 = generate_cloud(theta=theta, b_theta=btheta, contrast=1,\n",
    "                          N_X=N_X, N_Y=N_Y, seed=seed, transition=True,\n",
    "                         phase = phase)[:, :, 0]\n",
    "\n",
    "    dico = {'theta': theta, 'btheta': btheta, 'phase' : phase, 'stimtype': stimtype,\n",
    "            'im_0': im_0, 'im_1': im_1}\n",
    "    generated_MC_sequences.append(dico)\n"
   ]
  },
  {
   "cell_type": "markdown",
   "metadata": {},
   "source": [
    "# Stimulation"
   ]
  },
  {
   "cell_type": "markdown",
   "metadata": {
    "ExecuteTime": {
     "end_time": "2019-11-15T18:46:18.189664Z",
     "start_time": "2019-11-15T18:46:00.772123Z"
    }
   },
   "source": [
    "t = input('Press Enter to start stimulations')"
   ]
  },
  {
   "cell_type": "code",
   "execution_count": 9,
   "metadata": {
    "ExecuteTime": {
     "end_time": "2020-07-10T03:50:44.219358Z",
     "start_time": "2020-07-10T03:28:55.967217Z"
    },
    "scrolled": false
   },
   "outputs": [
    {
     "name": "stdout",
     "output_type": "stream",
     "text": [
      "Beginning stimulations, drawing blackscreen.\n",
      "Ending stimulations, drawing blackscreen.\n",
      "19.0564 \tWARNING \tUser requested fullscreen with size [800 600], but screen is actually [1920, 1080]. Using actual size\n"
     ]
    }
   ],
   "source": [
    "win = visual.Window(fullscr=True, color=[0.0075, 0.0075, 0.0075], winType='pyglet', monitor='testMonitor', \n",
    "                    units=screen_units,\n",
    "                   screen = 1)\n",
    "\n",
    "mouse = event.Mouse(visible=False)\n",
    "\n",
    "temp_MC = generated_MC_sequences[0]['im_0']\n",
    "temp2_MC = generated_MC_sequences[0]['im_1']\n",
    "\n",
    "# MotionClouds bitmaps\n",
    "bitmap1 = visual.GratingStim(win, temp_MC, size=1, units='height')\n",
    "bitmap1.autolog = False\n",
    "bitmap1.mask = 'circle'\n",
    "\n",
    "# Blackscreen bitmap\n",
    "bitmap3 = visual.GratingStim(win, temp_MC, size=1, units='height')\n",
    "bitmap3.autolog = False\n",
    "bitmap3.tex = np.full((512, 512), -1)\n",
    "\n",
    "# Grey bitmap\n",
    "bitmap4 = visual.GratingStim(win, temp_MC, size=1, units='height')\n",
    "bitmap4.autolog = False\n",
    "bitmap4.tex = np.full((512, 512), .0075)\n",
    "\n",
    "#Photodiode \n",
    "rect_1 = visual.ShapeStim(win, vertices = ((-450, -500), (-450, -450), (-500, -450), (-500, -500)),\n",
    "                        fillColor=(-.35, -.35, -.35), lineColor=(-.35, -.35, -.35) )\n",
    "rect_2 = visual.ShapeStim(win, vertices = ((-450, -500), (-450, -450), (-500, -450), (-500, -500)),\n",
    "                        fillColor=(1, 1, 1), lineColor=(1, 1, 1) )\n",
    "\n",
    "\n",
    "\n",
    "timing_list = []\n",
    "verif_list = []\n",
    "for repeat in range(repetition) :\n",
    "    \n",
    "    # Reshuffling\n",
    "    np.random.shuffle(generated_MC_sequences)\n",
    "    verif_list.append(generated_MC_sequences[0]['theta'])\n",
    "    \n",
    "    # Waiting 15xstim_duration at the beginning of stimulation\n",
    "    if repeat == 0:\n",
    "        clock0 = core.Clock()\n",
    "        print('Beginning stimulations, drawing blackscreen.')\n",
    "        while clock0.getTime() < stim_duration * 20:\n",
    "            bitmap3.draw()\n",
    "            win.flip()\n",
    "        del clock0\n",
    "            \n",
    "    for trial in range(len(generated_MC_sequences)):\n",
    "        \n",
    "        start_time = time.time()\n",
    "        stim = generated_MC_sequences[trial]\n",
    "\n",
    "        bitmap1.tex = stim['im_0']\n",
    "        bitmap1.ori = stim['theta'] * 180 / np.pi\n",
    "\n",
    "        clock = core.Clock()\n",
    "        while clock.getTime() < stim_duration:\n",
    "            if (1/60) * 2 > clock.getTime():  # white for 2 frames\n",
    "                bitmap1.draw()\n",
    "                rect_2.draw()\n",
    "            else : # grey for 60%\n",
    "                bitmap1.draw()\n",
    "                rect_1.draw()\n",
    "            win.flip()\n",
    "            if stim['phase'] == phases [0] : # two directions\n",
    "                bitmap1.phase = (0, bitmap1.phase[1] + (phase_increment))\n",
    "            else :\n",
    "                bitmap1.phase = (0, bitmap1.phase[1] - (phase_increment))\n",
    "\n",
    "            \n",
    "        while clock.getTime() < stim_duration + inter_duration :\n",
    "            bitmap4.draw()\n",
    "            win.flip()\n",
    "            \n",
    "        bitmap1.phase = (0,0)\n",
    "            \n",
    "        # early terminator\n",
    "        key = get_keypress()\n",
    "        if key == 'escape':\n",
    "            win.close()\n",
    "            core.quit()\n",
    "            \n",
    "        timing_list.append(time.time() - start_time)\n",
    "        \n",
    "        if trial == len(generated_MC_sequences)-1 and repeat == repetition -1 :\n",
    "            clock0 = core.Clock()\n",
    "            print('Ending stimulations, drawing blackscreen.')\n",
    "            while clock0.getTime() < stim_duration * 20 :\n",
    "                bitmap3.draw()\n",
    "                win.flip()\n",
    "            win.close()\n",
    "            #core.quit()\n",
    "        \n",
    "        if verbose : print('Trial no. %s, ran in %.3f' % (trial, time.time() - start_time))\n",
    "        \n",
    "        \n",
    "win.close()"
   ]
  },
  {
   "cell_type": "markdown",
   "metadata": {},
   "source": [
    "# Post run checks"
   ]
  },
  {
   "cell_type": "code",
   "execution_count": 10,
   "metadata": {
    "ExecuteTime": {
     "end_time": "2020-07-10T03:50:44.357424Z",
     "start_time": "2020-07-10T03:50:44.220959Z"
    }
   },
   "outputs": [
    {
     "data": {
      "image/png": "[encoded data removed]",
      "text/plain": [
       "<Figure size 432x288 with 1 Axes>"
      ]
     },
     "metadata": {
      "needs_background": "light"
     },
     "output_type": "display_data"
    }
   ],
   "source": [
    "plt.plot(timing_list[1:])\n",
    "plt.title('Std = %s' % np.std(timing_list[1:]))\n",
    "plt.xlabel('Mean = %s' %np.mean(timing_list[1:]))\n",
    "plt.savefig(mc.figpath+'/times.png', format = 'png')"
   ]
  },
  {
   "cell_type": "code",
   "execution_count": 11,
   "metadata": {
    "ExecuteTime": {
     "end_time": "2020-07-10T03:50:44.362024Z",
     "start_time": "2020-07-10T03:50:44.358726Z"
    }
   },
   "outputs": [],
   "source": [
    "rng_42_list = [0.7853981633974483, 2.617993877991494, 1.5707963267948966, 0.2617993877991494, 0.2617993877991494, 1.832595714594046, 1.308996938995747, 0.5235987755982988, 1.5707963267948966, 1.5707963267948966, 1.308996938995747, 2.356194490192345, 2.0943951023931953, 0.2617993877991494, 1.832595714594046]\n"
   ]
  },
  {
   "cell_type": "code",
   "execution_count": 12,
   "metadata": {
    "ExecuteTime": {
     "end_time": "2020-07-10T03:50:44.365584Z",
     "start_time": "2020-07-10T03:50:44.363117Z"
    }
   },
   "outputs": [
    {
     "data": {
      "text/plain": [
       "[0.7853981633974483,\n",
       " 2.617993877991494,\n",
       " 1.5707963267948966,\n",
       " 0.2617993877991494,\n",
       " 0.2617993877991494,\n",
       " 1.832595714594046,\n",
       " 1.308996938995747,\n",
       " 0.5235987755982988,\n",
       " 1.5707963267948966,\n",
       " 1.5707963267948966,\n",
       " 1.308996938995747,\n",
       " 2.356194490192345,\n",
       " 2.0943951023931953,\n",
       " 0.2617993877991494,\n",
       " 1.832595714594046]"
      ]
     },
     "execution_count": 12,
     "metadata": {},
     "output_type": "execute_result"
    }
   ],
   "source": [
    "verif_list"
   ]
  },
  {
   "cell_type": "code",
   "execution_count": 13,
   "metadata": {
    "ExecuteTime": {
     "end_time": "2020-07-10T03:50:44.368521Z",
     "start_time": "2020-07-10T03:50:44.366507Z"
    }
   },
   "outputs": [
    {
     "data": {
      "text/plain": [
       "True"
      ]
     },
     "execution_count": 13,
     "metadata": {},
     "output_type": "execute_result"
    }
   ],
   "source": [
    "verif_list == rng_42_list"
   ]
  },
  {
   "cell_type": "code",
   "execution_count": 14,
   "metadata": {
    "ExecuteTime": {
     "end_time": "2020-07-10T03:50:44.394549Z",
     "start_time": "2020-07-10T03:50:44.369331Z"
    }
   },
   "outputs": [
    {
     "data": {
      "text/plain": [
       "'./stimV2/AM001_07072020/notebook.ipynb'"
      ]
     },
     "execution_count": 14,
     "metadata": {},
     "output_type": "execute_result"
    }
   ],
   "source": [
    "%notebook -e notebook.ipynb\n",
    "shutil.move('notebook.ipynb', mc.figpath+'/notebook.ipynb')\n"
   ]
  }
 ],
 "metadata": {
  "kernelspec": {
   "display_name": "Python 3",
   "language": "python",
   "name": "python3"
  },
  "language_info": {
   "codemirror_mode": {
    "name": "ipython",
    "version": 3
   },
   "file_extension": ".py",
   "mimetype": "text/x-python",
   "name": "python",
   "nbconvert_exporter": "python",
   "pygments_lexer": "ipython3",
   "version": "3.8.3"
  },
  "toc": {
   "base_numbering": 1,
   "nav_menu": {},
   "number_sections": true,
   "sideBar": true,
   "skip_h1_title": false,
   "title_cell": "Table of Contents",
   "title_sidebar": "Contents",
   "toc_cell": false,
   "toc_position": {},
   "toc_section_display": true,
   "toc_window_display": false
  },
  "varInspector": {
   "cols": {
    "lenName": 16,
    "lenType": 16,
    "lenVar": 40
   },
   "kernels_config": {
    "python": {
     "delete_cmd_postfix": "",
     "delete_cmd_prefix": "del ",
     "library": "var_list.py",
     "varRefreshCmd": "print(var_dic_list())"
    },
    "r": {
     "delete_cmd_postfix": ") ",
     "delete_cmd_prefix": "rm(",
     "library": "var_list.r",
     "varRefreshCmd": "cat(var_dic_list()) "
    }
   },
   "types_to_exclude": [
    "module",
    "function",
    "builtin_function_or_method",
    "instance",
    "_Feature"
   ],
   "window_display": false
  }
 },
 "nbformat": 4,
 "nbformat_minor": 2
}
